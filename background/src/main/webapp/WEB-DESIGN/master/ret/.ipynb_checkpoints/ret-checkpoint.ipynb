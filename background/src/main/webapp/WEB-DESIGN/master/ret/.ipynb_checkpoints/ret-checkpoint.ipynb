{
 "cells": [
  {
   "cell_type": "code",
   "execution_count": 1,
   "metadata": {
    "collapsed": true
   },
   "outputs": [],
   "source": [
    "import synonyms as syn\n",
    "import json\n",
    "import operator\n",
    "import socket\n",
    "import sys\n",
    "import threading\n",
    "import urlparse"
   ]
  },
  {
   "cell_type": "code",
   "execution_count": 18,
   "metadata": {
    "collapsed": true
   },
   "outputs": [],
   "source": [
    "class DataSet:\n",
    "    Document_Key = 'd'\n",
    "    Conversation_Key = 'c'\n",
    "    ProductID_Key  = 'pid'\n",
    "    Query_Key = 'q'\n",
    "    Request_Path = '/'\n",
    "    __answer_sheet = {\n",
    "        'd0': '进水解决方案 ... 买过',\n",
    "        'd1': 'some stories',\n",
    "        'c0': '你好',\n",
    "        'c1': '早上好'\n",
    "    }\n",
    "    def __init__(self, dataset=None, household_d=0.9, household_c=0.9):\n",
    "        if dataset is not None and type(dataset) is not dict:\n",
    "            raise TypeError(\"must be initialized by a object of dict type\")\n",
    "        self.setDataset(dataset)\n",
    "        self.household_doc = household_d\n",
    "        self.household_conv = household_c\n",
    "    def setDataset(self, dataset):\n",
    "        if dataset is not None:\n",
    "            if type(dataset) is not dict:\n",
    "                raise TypeError(\"must be initialized by a object of dict type\")\n",
    "            if self.Document_Key in dataset:\n",
    "                self.docs = dataset[self.Document_Key]\n",
    "            if self.Conversation_Key in dataset:\n",
    "                self.convs = dataset[self.Conversation_Key]     "
   ]
  },
  {
   "cell_type": "code",
   "execution_count": 3,
   "metadata": {
    "collapsed": true
   },
   "outputs": [],
   "source": [
    "class Retrieval:\n",
    "    def __mean(self, numbers):\n",
    "        return float(sum(numbers)) / max(len(numbers), 1)\n",
    "    \n",
    "    def __max_id(self, items):\n",
    "        return max(items.iteritems(), key=operator.itemgetter(1))[0]\n",
    "\n",
    "    def evalQuery(self, q, dataset):\n",
    "        if not hasattr(dataset, 'docs') or not hasattr(dataset, 'convs'):\n",
    "            raise ValueError(\"setDataset shall be called first\")\n",
    "        if type(q) is not str and type(q) is not unicode:\n",
    "            raise TypeError(\"query shall be type string\")\n",
    "        query_words = syn.seg(q)[0]\n",
    "        \n",
    "        # syn.compare(sen1, sen2, seg=False)\n",
    "        doc_scores = {}\n",
    "        conv_scores = {}\n",
    "        self.doc_matches = {}\n",
    "        self.conv_matches = {}\n",
    "        for doc_id, keys in dataset.docs.iteritems():\n",
    "            matches = [[syn.compare(keys[i], query_words[j], seg=False) for j in range(len(query_words))] for i in range(len(keys))]\n",
    "            self.doc_matches[doc_id] = matches\n",
    "            max_matches = [max(matches[i]) for i in range(len(matches))]\n",
    "            score = self.__mean(max_matches)\n",
    "            doc_scores[doc_id] = score    \n",
    "        doc_id_best = self.__max_id(doc_scores)\n",
    "        \n",
    "        for conv_id, conv_s in dataset.convs.iteritems():\n",
    "            matches = [syn.compare(conv_s, query_words[j], seg=False) for j in range(len(query_words))]\n",
    "            self.conv_matches[conv_id] = matches\n",
    "            score = max(matches)\n",
    "            conv_scores[conv_id] = score\n",
    "        conv_id_best = self.__max_id(conv_scores)\n",
    "        \n",
    "        #print doc_scores[doc_id_best], conv_scores[conv_id_best]\n",
    "        if  doc_scores[doc_id_best] > dataset.household_doc:\n",
    "            if conv_scores[conv_id_best] > dataset.household_conv: \n",
    "                return {dataset.Document_Key: doc_id_best, dataset.Conversation_Key: conv_id_best}\n",
    "            return {dataset.Document_Key: doc_id_best}\n",
    "        else :\n",
    "            if conv_scores[conv_id_best] > dataset.household_conv:\n",
    "                return {dataset.Conversation_Key: conv_id_best}\n",
    "        return {}\n",
    "    \n",
    "    def evalQuerys(self, qs, dataset):\n",
    "        if type(qs) is not list and type(qs) is not str and type(qs) is not unicode and type(qs) is dict and dataset.Query_Key not in dict:\n",
    "            raise TypeError(\"the argument shall be a list object constituted by strings or a string\")\n",
    "        if type(qs) is str or type(qs) is unicode:\n",
    "            qs = [qs]\n",
    "        if type(qs) is dict:\n",
    "            return self.evalQuerys(qs[dataset.Query_Key], dataset)\n",
    "        return [self.evalQuery(qs[i], dataset) for i in range(len(qs))]\n",
    "    \n",
    "    def __ans(self, qs, dataset):\n",
    "        ans_arr = self.evalQuerys(qs, dataset)\n",
    "        ans_ss = []\n",
    "        for i in range(len(qs)):\n",
    "            ans = ans_arr[i]\n",
    "            ans_s = ''\n",
    "            if dataset.Conversation_Key in ans:\n",
    "                ans_s += dataset._DataSet__answer_sheet[ans[dataset.Conversation_Key]]\n",
    "            if dataset.Document_Key in ans:\n",
    "                if ans_s is not '':\n",
    "                    ans_s += ','\n",
    "                ans_s += dataset._DataSet__answer_sheet[ans[dataset.Document_Key]]\n",
    "            else :\n",
    "                if ans_s is not '':\n",
    "                    ans_s += ','\n",
    "                ans_s += 'There is nothing i can help you, Sorry'\n",
    "            ans_ss.append(ans_s)\n",
    "        return {'a': ans_ss}"
   ]
  },
  {
   "cell_type": "code",
   "execution_count": 4,
   "metadata": {
    "collapsed": true
   },
   "outputs": [],
   "source": [
    "class HttpRequestParser:\n",
    "    def __init__(self):\n",
    "        self.reset()\n",
    "    def reset(self):\n",
    "        self.header = {}\n",
    "        self.data = ''\n",
    "        self.wait = ''\n",
    "        self.method = ''\n",
    "        self.request_url = ''\n",
    "        self.http_version = ''\n",
    "        self.got = False\n",
    "    def check(self):\n",
    "        if 'Content-Length' in self.header:\n",
    "            CL = int(self.header['Content-Length'])\n",
    "        else:\n",
    "            CL = 0\n",
    "        if len(self.data) == CL:\n",
    "            return True\n",
    "        if len(self.data) > CL:\n",
    "            raise ValueError('unexpected data')\n",
    "        return False\n",
    "    def feed(self, data):\n",
    "        if not self.got:\n",
    "            data = self.wait + data\n",
    "            while 1:\n",
    "                pos = data.find('\\r\\n')\n",
    "                if pos < 0:\n",
    "                    self.wait = data\n",
    "                    return False\n",
    "                elif pos > 0:\n",
    "                    simicolen = data[0:pos].find(':')\n",
    "                    if simicolen < 0:\n",
    "                        (self.method, self.request_url, self.http_version) = data[0:pos].split(' ')\n",
    "                    else:\n",
    "                        self.header[data[0:simicolen].strip()] = data[simicolen+1:pos].strip()\n",
    "                    data = data[pos+2:]\n",
    "                else:\n",
    "                    self.got = True\n",
    "                    self.data = data[pos+2:]\n",
    "                    break\n",
    "        else:\n",
    "            self.data += data\n",
    "        return self.check()"
   ]
  },
  {
   "cell_type": "code",
   "execution_count": 5,
   "metadata": {
    "collapsed": true
   },
   "outputs": [],
   "source": [
    "class Server:\n",
    "    def __init__(self, host='', port=80, timeout=None):\n",
    "        self.socket = socket.socket(\n",
    "            socket.AF_INET, socket.SOCK_STREAM\n",
    "        )\n",
    "        try:\n",
    "            self.socket.bind((HOST, PORT))\n",
    "        except socket.error as msg:\n",
    "            print 'Bind failed. Error Code: ' + str(msg[0]) + ' Message ' + msg[1]\n",
    "            sys.exit()\n",
    "        self.timeout = timeout\n",
    "    def listen(self, number):\n",
    "        self.socket.listen(number)\n",
    "        print 'Socket listening up to ' + str(number)\n",
    "        self.handler(self.socket, self.timeout)\n",
    "    def setHandler(self, handler):\n",
    "        self.handler = handler"
   ]
  },
  {
   "cell_type": "code",
   "execution_count": 6,
   "metadata": {
    "collapsed": true
   },
   "outputs": [],
   "source": [
    "def AutoAns(socket, timeout):\n",
    "    dataset = DataSet()\n",
    "    while 1:\n",
    "        conn, addr = socket.accept()\n",
    "        threading.Thread(target=Serve, args=(conn, timeout, dataset,)).start()        "
   ]
  },
  {
   "cell_type": "code",
   "execution_count": 20,
   "metadata": {
    "collapsed": true
   },
   "outputs": [],
   "source": [
    "def Serve(conn, timeout, dataset):\n",
    "    parser = HttpRequestParser()\n",
    "    ret = Retrieval()\n",
    "    status_code = '404 Not Found'\n",
    "    try:\n",
    "        conn.settimeout(timeout)\n",
    "        while 1:\n",
    "            print 'Collecting fragment'\n",
    "            frag = conn.recv(4096)\n",
    "            if parser.feed(frag): break\n",
    "        # print 'Connected with ' + addr[0] + ':' + str(addr[1])\n",
    "        parse_res = urlparse.urlparse(parser.request_url)\n",
    "        path = parse_res[2]\n",
    "        queries = urlparse.parse_qs(parse_res[4])\n",
    "        if dataset.Query_Key not in queries or dataset.ProductID_Key not in queries or path is not dataset.Request_Path:\n",
    "            res_data = 'Bad Query Format'\n",
    "            print queries\n",
    "            print path\n",
    "        else:\n",
    "            q = queries['q'][0]\n",
    "            pid = queries['pid'][0]\n",
    "            print q, pid\n",
    "            # res_data = json.dumps(ret._Retrieval__ans(q, pid, dataset))\n",
    "            res_data = 'Success'\n",
    "            status_code = '200 OK'\n",
    "        '''\n",
    "        json_data = json.loads(parser.data)\n",
    "        dataset.setDataset(json_data)\n",
    "        if dataset.Query_Key in json_data:\n",
    "            query = json_data['q']\n",
    "            res_data = json.dumps(ret._Retrieval__ans(query, dataset))\n",
    "        else:\n",
    "            res_data = ''\n",
    "        '''\n",
    "    except Exception as e:\n",
    "        res_data = e.__class__.__name__ + ': ' + str(e)\n",
    "    res_header = 'HTTP/1.1 ' + status_code + '\\r\\nContent-Length: ' + str(len(res_data)) + '\\r\\nConnection: close\\r\\n'\n",
    "    res = res_header + '\\r\\n' + res_data\n",
    "    conn.sendall(res)\n",
    "    conn.close()\n",
    "    parser.reset()"
   ]
  },
  {
   "cell_type": "code",
   "execution_count": 8,
   "metadata": {
    "collapsed": true
   },
   "outputs": [],
   "source": [
    "HOST = ''\n",
    "PORT = 44442\n",
    "server = Server(HOST, PORT, 0)\n",
    "server.setHandler(AutoAns)"
   ]
  },
  {
   "cell_type": "code",
   "execution_count": 21,
   "metadata": {},
   "outputs": [
    {
     "ename": "KeyboardInterrupt",
     "evalue": "",
     "output_type": "error",
     "traceback": [
      "\u001b[0;31m---------------------------------------------------------------------------\u001b[0m",
      "\u001b[0;31mKeyboardInterrupt\u001b[0m                         Traceback (most recent call last)",
      "\u001b[0;32m<ipython-input-21-286e2f73cc13>\u001b[0m in \u001b[0;36m<module>\u001b[0;34m()\u001b[0m\n\u001b[0;32m----> 1\u001b[0;31m \u001b[0mserver\u001b[0m\u001b[0;34m.\u001b[0m\u001b[0mlisten\u001b[0m\u001b[0;34m(\u001b[0m\u001b[0;36m5\u001b[0m\u001b[0;34m)\u001b[0m\u001b[0;34m\u001b[0m\u001b[0m\n\u001b[0m",
      "\u001b[0;32m<ipython-input-5-ddf5aa9f306b>\u001b[0m in \u001b[0;36mlisten\u001b[0;34m(self, number)\u001b[0m\n\u001b[1;32m     13\u001b[0m         \u001b[0mself\u001b[0m\u001b[0;34m.\u001b[0m\u001b[0msocket\u001b[0m\u001b[0;34m.\u001b[0m\u001b[0mlisten\u001b[0m\u001b[0;34m(\u001b[0m\u001b[0mnumber\u001b[0m\u001b[0;34m)\u001b[0m\u001b[0;34m\u001b[0m\u001b[0m\n\u001b[1;32m     14\u001b[0m         \u001b[0;32mprint\u001b[0m \u001b[0;34m'Socket listening up to '\u001b[0m \u001b[0;34m+\u001b[0m \u001b[0mstr\u001b[0m\u001b[0;34m(\u001b[0m\u001b[0mnumber\u001b[0m\u001b[0;34m)\u001b[0m\u001b[0;34m\u001b[0m\u001b[0m\n\u001b[0;32m---> 15\u001b[0;31m         \u001b[0mself\u001b[0m\u001b[0;34m.\u001b[0m\u001b[0mhandler\u001b[0m\u001b[0;34m(\u001b[0m\u001b[0mself\u001b[0m\u001b[0;34m.\u001b[0m\u001b[0msocket\u001b[0m\u001b[0;34m,\u001b[0m \u001b[0mself\u001b[0m\u001b[0;34m.\u001b[0m\u001b[0mtimeout\u001b[0m\u001b[0;34m)\u001b[0m\u001b[0;34m\u001b[0m\u001b[0m\n\u001b[0m\u001b[1;32m     16\u001b[0m     \u001b[0;32mdef\u001b[0m \u001b[0msetHandler\u001b[0m\u001b[0;34m(\u001b[0m\u001b[0mself\u001b[0m\u001b[0;34m,\u001b[0m \u001b[0mhandler\u001b[0m\u001b[0;34m)\u001b[0m\u001b[0;34m:\u001b[0m\u001b[0;34m\u001b[0m\u001b[0m\n\u001b[1;32m     17\u001b[0m         \u001b[0mself\u001b[0m\u001b[0;34m.\u001b[0m\u001b[0mhandler\u001b[0m \u001b[0;34m=\u001b[0m \u001b[0mhandler\u001b[0m\u001b[0;34m\u001b[0m\u001b[0m\n",
      "\u001b[0;32m<ipython-input-6-6e955c196679>\u001b[0m in \u001b[0;36mAutoAns\u001b[0;34m(socket, timeout)\u001b[0m\n\u001b[1;32m      2\u001b[0m     \u001b[0mdataset\u001b[0m \u001b[0;34m=\u001b[0m \u001b[0mDataSet\u001b[0m\u001b[0;34m(\u001b[0m\u001b[0;34m)\u001b[0m\u001b[0;34m\u001b[0m\u001b[0m\n\u001b[1;32m      3\u001b[0m     \u001b[0;32mwhile\u001b[0m \u001b[0;36m1\u001b[0m\u001b[0;34m:\u001b[0m\u001b[0;34m\u001b[0m\u001b[0m\n\u001b[0;32m----> 4\u001b[0;31m         \u001b[0mconn\u001b[0m\u001b[0;34m,\u001b[0m \u001b[0maddr\u001b[0m \u001b[0;34m=\u001b[0m \u001b[0msocket\u001b[0m\u001b[0;34m.\u001b[0m\u001b[0maccept\u001b[0m\u001b[0;34m(\u001b[0m\u001b[0;34m)\u001b[0m\u001b[0;34m\u001b[0m\u001b[0m\n\u001b[0m\u001b[1;32m      5\u001b[0m         \u001b[0mthreading\u001b[0m\u001b[0;34m.\u001b[0m\u001b[0mThread\u001b[0m\u001b[0;34m(\u001b[0m\u001b[0mtarget\u001b[0m\u001b[0;34m=\u001b[0m\u001b[0mServe\u001b[0m\u001b[0;34m,\u001b[0m \u001b[0margs\u001b[0m\u001b[0;34m=\u001b[0m\u001b[0;34m(\u001b[0m\u001b[0mconn\u001b[0m\u001b[0;34m,\u001b[0m \u001b[0mtimeout\u001b[0m\u001b[0;34m,\u001b[0m \u001b[0mdataset\u001b[0m\u001b[0;34m,\u001b[0m\u001b[0;34m)\u001b[0m\u001b[0;34m)\u001b[0m\u001b[0;34m.\u001b[0m\u001b[0mstart\u001b[0m\u001b[0;34m(\u001b[0m\u001b[0;34m)\u001b[0m\u001b[0;34m\u001b[0m\u001b[0m\n",
      "\u001b[0;32m/home/woop/Programs/anaconda2/lib/python2.7/socket.pyc\u001b[0m in \u001b[0;36maccept\u001b[0;34m(self)\u001b[0m\n\u001b[1;32m    204\u001b[0m \u001b[0;34m\u001b[0m\u001b[0m\n\u001b[1;32m    205\u001b[0m     \u001b[0;32mdef\u001b[0m \u001b[0maccept\u001b[0m\u001b[0;34m(\u001b[0m\u001b[0mself\u001b[0m\u001b[0;34m)\u001b[0m\u001b[0;34m:\u001b[0m\u001b[0;34m\u001b[0m\u001b[0m\n\u001b[0;32m--> 206\u001b[0;31m         \u001b[0msock\u001b[0m\u001b[0;34m,\u001b[0m \u001b[0maddr\u001b[0m \u001b[0;34m=\u001b[0m \u001b[0mself\u001b[0m\u001b[0;34m.\u001b[0m\u001b[0m_sock\u001b[0m\u001b[0;34m.\u001b[0m\u001b[0maccept\u001b[0m\u001b[0;34m(\u001b[0m\u001b[0;34m)\u001b[0m\u001b[0;34m\u001b[0m\u001b[0m\n\u001b[0m\u001b[1;32m    207\u001b[0m         \u001b[0;32mreturn\u001b[0m \u001b[0m_socketobject\u001b[0m\u001b[0;34m(\u001b[0m\u001b[0m_sock\u001b[0m\u001b[0;34m=\u001b[0m\u001b[0msock\u001b[0m\u001b[0;34m)\u001b[0m\u001b[0;34m,\u001b[0m \u001b[0maddr\u001b[0m\u001b[0;34m\u001b[0m\u001b[0m\n\u001b[1;32m    208\u001b[0m     \u001b[0maccept\u001b[0m\u001b[0;34m.\u001b[0m\u001b[0m__doc__\u001b[0m \u001b[0;34m=\u001b[0m \u001b[0m_realsocket\u001b[0m\u001b[0;34m.\u001b[0m\u001b[0maccept\u001b[0m\u001b[0;34m.\u001b[0m\u001b[0m__doc__\u001b[0m\u001b[0;34m\u001b[0m\u001b[0m\n",
      "\u001b[0;31mKeyboardInterrupt\u001b[0m: "
     ]
    }
   ],
   "source": [
    "server.listen(5)"
   ]
  },
  {
   "cell_type": "code",
   "execution_count": null,
   "metadata": {
    "collapsed": true
   },
   "outputs": [],
   "source": []
  }
 ],
 "metadata": {
  "kernelspec": {
   "display_name": "Python 2",
   "language": "python",
   "name": "python2"
  },
  "language_info": {
   "codemirror_mode": {
    "name": "ipython",
    "version": 2
   },
   "file_extension": ".py",
   "mimetype": "text/x-python",
   "name": "python",
   "nbconvert_exporter": "python",
   "pygments_lexer": "ipython2",
   "version": "2.7.13"
  }
 },
 "nbformat": 4,
 "nbformat_minor": 2
}
